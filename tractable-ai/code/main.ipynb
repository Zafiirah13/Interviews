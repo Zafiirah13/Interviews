{
 "cells": [
  {
   "cell_type": "code",
   "execution_count": 1,
   "metadata": {},
   "outputs": [
    {
     "name": "stderr",
     "output_type": "stream",
     "text": [
      "//anaconda/envs/tflearn/lib/python3.5/site-packages/sklearn/externals/six.py:31: DeprecationWarning: The module is deprecated in version 0.21 and will be removed in version 0.23 since we've dropped support for Python 2.7. Please rely on the official version of six (https://pypi.org/project/six/).\n",
      "  \"(https://pypi.org/project/six/).\", DeprecationWarning)\n"
     ]
    }
   ],
   "source": [
    "import os\n",
    "import pandas as pd \n",
    "import numpy as np\n",
    "import matplotlib.pylab as plt\n",
    "\n",
    "from sklearn.metrics import roc_curve, auc, roc_auc_score\n",
    "\n",
    "from utils import combine_metadata, read_csv\n",
    "from plot import plot_train_val_test_dis, plot_roc, plot_roc_with_thres, plot_confusion_matrix\n",
    "from evaluation import evaluation_metrics, to_labels, optimal_threshold_tuning\n",
    "\n",
    "import warnings\n",
    "warnings.filterwarnings(\"ignore\")\n",
    "\n",
    "%matplotlib inline\n",
    "plt.rc('text', usetex=True)\n",
    "plt.rc('font',**{'family':'DejaVu Sans','serif':['Palatino']})\n",
    "figSize  = (12, 8)\n",
    "fontSize = 20\n"
   ]
  },
  {
   "cell_type": "markdown",
   "metadata": {},
   "source": [
    "# Question 1\n",
    "Determine ground-truth labels from the metadata and merge the two data dumps for analysis (expected content in hand-in: code)"
   ]
  },
  {
   "cell_type": "markdown",
   "metadata": {},
   "source": [
    "## 1(a) Load metadata, combine them and sort the rows by claim id numbers"
   ]
  },
  {
   "cell_type": "code",
   "execution_count": 2,
   "metadata": {},
   "outputs": [
    {
     "name": "stdout",
     "output_type": "stream",
     "text": [
      "The combined metadata has shape:  (199827, 11)\n"
     ]
    },
    {
     "data": {
      "text/html": [
       "<div>\n",
       "<style scoped>\n",
       "    .dataframe tbody tr th:only-of-type {\n",
       "        vertical-align: middle;\n",
       "    }\n",
       "\n",
       "    .dataframe tbody tr th {\n",
       "        vertical-align: top;\n",
       "    }\n",
       "\n",
       "    .dataframe thead th {\n",
       "        text-align: right;\n",
       "    }\n",
       "</style>\n",
       "<table border=\"1\" class=\"dataframe\">\n",
       "  <thead>\n",
       "    <tr style=\"text-align: right;\">\n",
       "      <th></th>\n",
       "      <th>Unnamed: 0</th>\n",
       "      <th>claim_id</th>\n",
       "      <th>labour_amt</th>\n",
       "      <th>line_num</th>\n",
       "      <th>make</th>\n",
       "      <th>model</th>\n",
       "      <th>operation</th>\n",
       "      <th>part</th>\n",
       "      <th>part_price</th>\n",
       "      <th>poi</th>\n",
       "      <th>year</th>\n",
       "    </tr>\n",
       "  </thead>\n",
       "  <tbody>\n",
       "    <tr>\n",
       "      <th>196017</th>\n",
       "      <td>NaN</td>\n",
       "      <td>0.0</td>\n",
       "      <td>110.000005</td>\n",
       "      <td>1.0</td>\n",
       "      <td>Volkswagen</td>\n",
       "      <td>Tiguan</td>\n",
       "      <td>replace</td>\n",
       "      <td>bbumper</td>\n",
       "      <td>266.600006</td>\n",
       "      <td>Rear Centre</td>\n",
       "      <td>2010.0</td>\n",
       "    </tr>\n",
       "    <tr>\n",
       "      <th>82272</th>\n",
       "      <td>NaN</td>\n",
       "      <td>1.0</td>\n",
       "      <td>114.999998</td>\n",
       "      <td>3.0</td>\n",
       "      <td>Peugeot</td>\n",
       "      <td>307</td>\n",
       "      <td>replace</td>\n",
       "      <td>blwing</td>\n",
       "      <td>337.709991</td>\n",
       "      <td>Rear Left</td>\n",
       "      <td>2003.0</td>\n",
       "    </tr>\n",
       "    <tr>\n",
       "      <th>72698</th>\n",
       "      <td>NaN</td>\n",
       "      <td>1.0</td>\n",
       "      <td>55.000001</td>\n",
       "      <td>2.0</td>\n",
       "      <td>Peugeot</td>\n",
       "      <td>307</td>\n",
       "      <td>repair</td>\n",
       "      <td>bldoor</td>\n",
       "      <td>NaN</td>\n",
       "      <td>Rear Left</td>\n",
       "      <td>2003.0</td>\n",
       "    </tr>\n",
       "    <tr>\n",
       "      <th>136570</th>\n",
       "      <td>NaN</td>\n",
       "      <td>1.0</td>\n",
       "      <td>55.000002</td>\n",
       "      <td>1.0</td>\n",
       "      <td>Peugeot</td>\n",
       "      <td>307</td>\n",
       "      <td>replace</td>\n",
       "      <td>bbumper</td>\n",
       "      <td>308.920013</td>\n",
       "      <td>Rear Left</td>\n",
       "      <td>2003.0</td>\n",
       "    </tr>\n",
       "    <tr>\n",
       "      <th>146647</th>\n",
       "      <td>NaN</td>\n",
       "      <td>2.0</td>\n",
       "      <td>115.000007</td>\n",
       "      <td>1.0</td>\n",
       "      <td>Volkswagen</td>\n",
       "      <td>Vw</td>\n",
       "      <td>replace</td>\n",
       "      <td>fbumper</td>\n",
       "      <td>294.000000</td>\n",
       "      <td>Front Centre</td>\n",
       "      <td>2007.0</td>\n",
       "    </tr>\n",
       "  </tbody>\n",
       "</table>\n",
       "</div>"
      ],
      "text/plain": [
       "       Unnamed: 0  claim_id  labour_amt  line_num        make   model  \\\n",
       "196017        NaN       0.0  110.000005       1.0  Volkswagen  Tiguan   \n",
       "82272         NaN       1.0  114.999998       3.0     Peugeot     307   \n",
       "72698         NaN       1.0   55.000001       2.0     Peugeot     307   \n",
       "136570        NaN       1.0   55.000002       1.0     Peugeot     307   \n",
       "146647        NaN       2.0  115.000007       1.0  Volkswagen      Vw   \n",
       "\n",
       "       operation     part  part_price           poi    year  \n",
       "196017   replace  bbumper  266.600006   Rear Centre  2010.0  \n",
       "82272    replace   blwing  337.709991     Rear Left  2003.0  \n",
       "72698     repair   bldoor         NaN     Rear Left  2003.0  \n",
       "136570   replace  bbumper  308.920013     Rear Left  2003.0  \n",
       "146647   replace  fbumper  294.000000  Front Centre  2007.0  "
      ]
     },
     "execution_count": 2,
     "metadata": {},
     "output_type": "execute_result"
    }
   ],
   "source": [
    "meta_data = combine_metadata(path='../data/metadata/')\n",
    "meta_data.head()"
   ]
  },
  {
   "cell_type": "markdown",
   "metadata": {},
   "source": [
    "### 1(b) We need to check the ground truth label in the meta data"
   ]
  },
  {
   "cell_type": "code",
   "execution_count": 3,
   "metadata": {},
   "outputs": [
    {
     "name": "stdout",
     "output_type": "stream",
     "text": [
      "The ground truth labels in the meta data are ['replace' 'repair']\n"
     ]
    }
   ],
   "source": [
    "ground_truth_label = pd.unique(meta_data.operation)\n",
    "print('The ground truth labels in the meta data are {}'.format(ground_truth_label))"
   ]
  },
  {
   "cell_type": "markdown",
   "metadata": {},
   "source": [
    "### 1(c) Check if line_num is empty. If it is the case, then we will label operation as undamaged"
   ]
  },
  {
   "cell_type": "code",
   "execution_count": 4,
   "metadata": {},
   "outputs": [
    {
     "data": {
      "text/html": [
       "<div>\n",
       "<style scoped>\n",
       "    .dataframe tbody tr th:only-of-type {\n",
       "        vertical-align: middle;\n",
       "    }\n",
       "\n",
       "    .dataframe tbody tr th {\n",
       "        vertical-align: top;\n",
       "    }\n",
       "\n",
       "    .dataframe thead th {\n",
       "        text-align: right;\n",
       "    }\n",
       "</style>\n",
       "<table border=\"1\" class=\"dataframe\">\n",
       "  <thead>\n",
       "    <tr style=\"text-align: right;\">\n",
       "      <th></th>\n",
       "      <th>Unnamed: 0</th>\n",
       "      <th>claim_id</th>\n",
       "      <th>labour_amt</th>\n",
       "      <th>line_num</th>\n",
       "      <th>make</th>\n",
       "      <th>model</th>\n",
       "      <th>operation</th>\n",
       "      <th>part</th>\n",
       "      <th>part_price</th>\n",
       "      <th>poi</th>\n",
       "      <th>year</th>\n",
       "    </tr>\n",
       "  </thead>\n",
       "  <tbody>\n",
       "  </tbody>\n",
       "</table>\n",
       "</div>"
      ],
      "text/plain": [
       "Empty DataFrame\n",
       "Columns: [Unnamed: 0, claim_id, labour_amt, line_num, make, model, operation, part, part_price, poi, year]\n",
       "Index: []"
      ]
     },
     "execution_count": 4,
     "metadata": {},
     "output_type": "execute_result"
    }
   ],
   "source": [
    "meta_data[meta_data.line_num.isnull()]"
   ]
  },
  {
   "cell_type": "code",
   "execution_count": 5,
   "metadata": {},
   "outputs": [
    {
     "data": {
      "text/html": [
       "<div>\n",
       "<style scoped>\n",
       "    .dataframe tbody tr th:only-of-type {\n",
       "        vertical-align: middle;\n",
       "    }\n",
       "\n",
       "    .dataframe tbody tr th {\n",
       "        vertical-align: top;\n",
       "    }\n",
       "\n",
       "    .dataframe thead th {\n",
       "        text-align: right;\n",
       "    }\n",
       "</style>\n",
       "<table border=\"1\" class=\"dataframe\">\n",
       "  <thead>\n",
       "    <tr style=\"text-align: right;\">\n",
       "      <th></th>\n",
       "      <th>claim_id</th>\n",
       "      <th>labour_amt</th>\n",
       "      <th>line_num</th>\n",
       "      <th>part_price</th>\n",
       "      <th>year</th>\n",
       "    </tr>\n",
       "  </thead>\n",
       "  <tbody>\n",
       "    <tr>\n",
       "      <th>count</th>\n",
       "      <td>199827.000000</td>\n",
       "      <td>199827.000000</td>\n",
       "      <td>199827.000000</td>\n",
       "      <td>60362.000000</td>\n",
       "      <td>199552.000000</td>\n",
       "    </tr>\n",
       "    <tr>\n",
       "      <th>mean</th>\n",
       "      <td>50107.286598</td>\n",
       "      <td>131.065815</td>\n",
       "      <td>1.974208</td>\n",
       "      <td>285.147440</td>\n",
       "      <td>2006.383855</td>\n",
       "    </tr>\n",
       "    <tr>\n",
       "      <th>std</th>\n",
       "      <td>28861.165709</td>\n",
       "      <td>119.119590</td>\n",
       "      <td>1.288588</td>\n",
       "      <td>153.201825</td>\n",
       "      <td>4.000030</td>\n",
       "    </tr>\n",
       "    <tr>\n",
       "      <th>min</th>\n",
       "      <td>0.000000</td>\n",
       "      <td>-49.999993</td>\n",
       "      <td>1.000000</td>\n",
       "      <td>0.200000</td>\n",
       "      <td>1955.000000</td>\n",
       "    </tr>\n",
       "    <tr>\n",
       "      <th>25%</th>\n",
       "      <td>25146.500000</td>\n",
       "      <td>55.000002</td>\n",
       "      <td>1.000000</td>\n",
       "      <td>166.580002</td>\n",
       "      <td>2004.000000</td>\n",
       "    </tr>\n",
       "    <tr>\n",
       "      <th>50%</th>\n",
       "      <td>50208.000000</td>\n",
       "      <td>105.000001</td>\n",
       "      <td>2.000000</td>\n",
       "      <td>267.000000</td>\n",
       "      <td>2007.000000</td>\n",
       "    </tr>\n",
       "    <tr>\n",
       "      <th>75%</th>\n",
       "      <td>75119.000000</td>\n",
       "      <td>175.000000</td>\n",
       "      <td>2.000000</td>\n",
       "      <td>374.660004</td>\n",
       "      <td>2009.000000</td>\n",
       "    </tr>\n",
       "    <tr>\n",
       "      <th>max</th>\n",
       "      <td>99999.000000</td>\n",
       "      <td>13660.000306</td>\n",
       "      <td>10.000000</td>\n",
       "      <td>2365.000000</td>\n",
       "      <td>2017.000000</td>\n",
       "    </tr>\n",
       "  </tbody>\n",
       "</table>\n",
       "</div>"
      ],
      "text/plain": [
       "            claim_id     labour_amt       line_num    part_price  \\\n",
       "count  199827.000000  199827.000000  199827.000000  60362.000000   \n",
       "mean    50107.286598     131.065815       1.974208    285.147440   \n",
       "std     28861.165709     119.119590       1.288588    153.201825   \n",
       "min         0.000000     -49.999993       1.000000      0.200000   \n",
       "25%     25146.500000      55.000002       1.000000    166.580002   \n",
       "50%     50208.000000     105.000001       2.000000    267.000000   \n",
       "75%     75119.000000     175.000000       2.000000    374.660004   \n",
       "max     99999.000000   13660.000306      10.000000   2365.000000   \n",
       "\n",
       "                year  \n",
       "count  199552.000000  \n",
       "mean     2006.383855  \n",
       "std         4.000030  \n",
       "min      1955.000000  \n",
       "25%      2004.000000  \n",
       "50%      2007.000000  \n",
       "75%      2009.000000  \n",
       "max      2017.000000  "
      ]
     },
     "execution_count": 5,
     "metadata": {},
     "output_type": "execute_result"
    }
   ],
   "source": [
    "meta_data.describe()"
   ]
  },
  {
   "cell_type": "markdown",
   "metadata": {},
   "source": [
    "**We note that there is no NaNs in the 'line_num' column. Therefore, we will proceed without making any change to the table.**"
   ]
  },
  {
   "cell_type": "markdown",
   "metadata": {},
   "source": [
    "## 1(d) Load Classifier output file "
   ]
  },
  {
   "cell_type": "code",
   "execution_count": 6,
   "metadata": {
    "scrolled": true
   },
   "outputs": [
    {
     "name": "stdout",
     "output_type": "stream",
     "text": [
      "The file has shape:  (1000000, 4)\n"
     ]
    },
    {
     "data": {
      "text/html": [
       "<div>\n",
       "<style scoped>\n",
       "    .dataframe tbody tr th:only-of-type {\n",
       "        vertical-align: middle;\n",
       "    }\n",
       "\n",
       "    .dataframe tbody tr th {\n",
       "        vertical-align: top;\n",
       "    }\n",
       "\n",
       "    .dataframe thead th {\n",
       "        text-align: right;\n",
       "    }\n",
       "</style>\n",
       "<table border=\"1\" class=\"dataframe\">\n",
       "  <thead>\n",
       "    <tr style=\"text-align: right;\">\n",
       "      <th></th>\n",
       "      <th>claim_id</th>\n",
       "      <th>part</th>\n",
       "      <th>urr_score</th>\n",
       "      <th>set</th>\n",
       "    </tr>\n",
       "  </thead>\n",
       "  <tbody>\n",
       "    <tr>\n",
       "      <th>0</th>\n",
       "      <td>0</td>\n",
       "      <td>fbumper</td>\n",
       "      <td>0.464102</td>\n",
       "      <td>0</td>\n",
       "    </tr>\n",
       "    <tr>\n",
       "      <th>1</th>\n",
       "      <td>0</td>\n",
       "      <td>bbumper</td>\n",
       "      <td>0.680342</td>\n",
       "      <td>0</td>\n",
       "    </tr>\n",
       "    <tr>\n",
       "      <th>2</th>\n",
       "      <td>0</td>\n",
       "      <td>bldoor</td>\n",
       "      <td>NaN</td>\n",
       "      <td>0</td>\n",
       "    </tr>\n",
       "    <tr>\n",
       "      <th>3</th>\n",
       "      <td>0</td>\n",
       "      <td>brdoor</td>\n",
       "      <td>NaN</td>\n",
       "      <td>0</td>\n",
       "    </tr>\n",
       "    <tr>\n",
       "      <th>4</th>\n",
       "      <td>0</td>\n",
       "      <td>frdoor</td>\n",
       "      <td>NaN</td>\n",
       "      <td>0</td>\n",
       "    </tr>\n",
       "  </tbody>\n",
       "</table>\n",
       "</div>"
      ],
      "text/plain": [
       "   claim_id     part  urr_score  set\n",
       "0         0  fbumper   0.464102    0\n",
       "1         0  bbumper   0.680342    0\n",
       "2         0   bldoor        NaN    0\n",
       "3         0   brdoor        NaN    0\n",
       "4         0   frdoor        NaN    0"
      ]
     },
     "execution_count": 6,
     "metadata": {},
     "output_type": "execute_result"
    }
   ],
   "source": [
    "classifier_file = read_csv(path='../data/', filename='classifier_output.csv')\n",
    "classifier_file.head()"
   ]
  },
  {
   "cell_type": "markdown",
   "metadata": {},
   "source": [
    "## 1(e) Merge two data - Meta data and Output classifier"
   ]
  },
  {
   "cell_type": "code",
   "execution_count": 7,
   "metadata": {
    "scrolled": true
   },
   "outputs": [
    {
     "data": {
      "text/html": [
       "<div>\n",
       "<style scoped>\n",
       "    .dataframe tbody tr th:only-of-type {\n",
       "        vertical-align: middle;\n",
       "    }\n",
       "\n",
       "    .dataframe tbody tr th {\n",
       "        vertical-align: top;\n",
       "    }\n",
       "\n",
       "    .dataframe thead th {\n",
       "        text-align: right;\n",
       "    }\n",
       "</style>\n",
       "<table border=\"1\" class=\"dataframe\">\n",
       "  <thead>\n",
       "    <tr style=\"text-align: right;\">\n",
       "      <th></th>\n",
       "      <th>Unnamed: 0</th>\n",
       "      <th>claim_id</th>\n",
       "      <th>labour_amt</th>\n",
       "      <th>line_num</th>\n",
       "      <th>make</th>\n",
       "      <th>model</th>\n",
       "      <th>operation</th>\n",
       "      <th>part</th>\n",
       "      <th>part_price</th>\n",
       "      <th>poi</th>\n",
       "      <th>year</th>\n",
       "      <th>urr_score</th>\n",
       "      <th>set</th>\n",
       "    </tr>\n",
       "  </thead>\n",
       "  <tbody>\n",
       "    <tr>\n",
       "      <th>0</th>\n",
       "      <td>NaN</td>\n",
       "      <td>0.0</td>\n",
       "      <td>110.000005</td>\n",
       "      <td>1.0</td>\n",
       "      <td>Volkswagen</td>\n",
       "      <td>Tiguan</td>\n",
       "      <td>replace</td>\n",
       "      <td>bbumper</td>\n",
       "      <td>266.600006</td>\n",
       "      <td>Rear Centre</td>\n",
       "      <td>2010.0</td>\n",
       "      <td>0.680342</td>\n",
       "      <td>0</td>\n",
       "    </tr>\n",
       "    <tr>\n",
       "      <th>1</th>\n",
       "      <td>NaN</td>\n",
       "      <td>1.0</td>\n",
       "      <td>114.999998</td>\n",
       "      <td>3.0</td>\n",
       "      <td>Peugeot</td>\n",
       "      <td>307</td>\n",
       "      <td>replace</td>\n",
       "      <td>blwing</td>\n",
       "      <td>337.709991</td>\n",
       "      <td>Rear Left</td>\n",
       "      <td>2003.0</td>\n",
       "      <td>0.979714</td>\n",
       "      <td>0</td>\n",
       "    </tr>\n",
       "    <tr>\n",
       "      <th>2</th>\n",
       "      <td>NaN</td>\n",
       "      <td>1.0</td>\n",
       "      <td>55.000001</td>\n",
       "      <td>2.0</td>\n",
       "      <td>Peugeot</td>\n",
       "      <td>307</td>\n",
       "      <td>repair</td>\n",
       "      <td>bldoor</td>\n",
       "      <td>NaN</td>\n",
       "      <td>Rear Left</td>\n",
       "      <td>2003.0</td>\n",
       "      <td>0.050809</td>\n",
       "      <td>0</td>\n",
       "    </tr>\n",
       "    <tr>\n",
       "      <th>3</th>\n",
       "      <td>NaN</td>\n",
       "      <td>1.0</td>\n",
       "      <td>55.000002</td>\n",
       "      <td>1.0</td>\n",
       "      <td>Peugeot</td>\n",
       "      <td>307</td>\n",
       "      <td>replace</td>\n",
       "      <td>bbumper</td>\n",
       "      <td>308.920013</td>\n",
       "      <td>Rear Left</td>\n",
       "      <td>2003.0</td>\n",
       "      <td>0.790558</td>\n",
       "      <td>0</td>\n",
       "    </tr>\n",
       "    <tr>\n",
       "      <th>4</th>\n",
       "      <td>NaN</td>\n",
       "      <td>2.0</td>\n",
       "      <td>115.000007</td>\n",
       "      <td>1.0</td>\n",
       "      <td>Volkswagen</td>\n",
       "      <td>Vw</td>\n",
       "      <td>replace</td>\n",
       "      <td>fbumper</td>\n",
       "      <td>294.000000</td>\n",
       "      <td>Front Centre</td>\n",
       "      <td>2007.0</td>\n",
       "      <td>0.599913</td>\n",
       "      <td>0</td>\n",
       "    </tr>\n",
       "  </tbody>\n",
       "</table>\n",
       "</div>"
      ],
      "text/plain": [
       "  Unnamed: 0  claim_id  labour_amt  line_num        make   model operation  \\\n",
       "0        NaN       0.0  110.000005       1.0  Volkswagen  Tiguan   replace   \n",
       "1        NaN       1.0  114.999998       3.0     Peugeot     307   replace   \n",
       "2        NaN       1.0   55.000001       2.0     Peugeot     307    repair   \n",
       "3        NaN       1.0   55.000002       1.0     Peugeot     307   replace   \n",
       "4        NaN       2.0  115.000007       1.0  Volkswagen      Vw   replace   \n",
       "\n",
       "      part  part_price           poi    year  urr_score  set  \n",
       "0  bbumper  266.600006   Rear Centre  2010.0   0.680342    0  \n",
       "1   blwing  337.709991     Rear Left  2003.0   0.979714    0  \n",
       "2   bldoor         NaN     Rear Left  2003.0   0.050809    0  \n",
       "3  bbumper  308.920013     Rear Left  2003.0   0.790558    0  \n",
       "4  fbumper  294.000000  Front Centre  2007.0   0.599913    0  "
      ]
     },
     "execution_count": 7,
     "metadata": {},
     "output_type": "execute_result"
    }
   ],
   "source": [
    "# Merge the two data on columns 'claim_id' and 'part'. When merging on these two columns, \n",
    "# we will obtain the ground truth label from the meta data using the column 'operation'\n",
    "merge_data = pd.merge(meta_data, classifier_file, on=['claim_id','part'])\n",
    "merge_data.head()"
   ]
  },
  {
   "cell_type": "markdown",
   "metadata": {},
   "source": [
    "## Concluding Remarks for Question 1\n",
    "\n",
    "<span style=\"color:blue\"> ** It is important to note that here since the metadata is used to train the Undamaged-Repair-Replace (URR) classifier and we do not have label for undamaged parts, this means we are basically dealing with only a binary classifier. That is URR classifier is trained with repair and replace data only**</span>.\n",
    "\n",
    "___\n"
   ]
  },
  {
   "cell_type": "markdown",
   "metadata": {},
   "source": [
    "# Question 2\n",
    "Analyse the performance of the classifiers (expected content in hand-in: code, 2-5 bullet-points and 1-3 tables/figures)\n",
    "\n",
    "### First we are going to analyse the combined data created in question 1"
   ]
  },
  {
   "cell_type": "code",
   "execution_count": 8,
   "metadata": {},
   "outputs": [
    {
     "name": "stdout",
     "output_type": "stream",
     "text": [
      "(199827, 4)\n"
     ]
    },
    {
     "data": {
      "text/html": [
       "<div>\n",
       "<style scoped>\n",
       "    .dataframe tbody tr th:only-of-type {\n",
       "        vertical-align: middle;\n",
       "    }\n",
       "\n",
       "    .dataframe tbody tr th {\n",
       "        vertical-align: top;\n",
       "    }\n",
       "\n",
       "    .dataframe thead th {\n",
       "        text-align: right;\n",
       "    }\n",
       "</style>\n",
       "<table border=\"1\" class=\"dataframe\">\n",
       "  <thead>\n",
       "    <tr style=\"text-align: right;\">\n",
       "      <th></th>\n",
       "      <th>claim_id</th>\n",
       "      <th>operation</th>\n",
       "      <th>urr_score</th>\n",
       "      <th>set</th>\n",
       "    </tr>\n",
       "  </thead>\n",
       "  <tbody>\n",
       "    <tr>\n",
       "      <th>0</th>\n",
       "      <td>0.0</td>\n",
       "      <td>replace</td>\n",
       "      <td>0.680342</td>\n",
       "      <td>0</td>\n",
       "    </tr>\n",
       "    <tr>\n",
       "      <th>1</th>\n",
       "      <td>1.0</td>\n",
       "      <td>replace</td>\n",
       "      <td>0.979714</td>\n",
       "      <td>0</td>\n",
       "    </tr>\n",
       "    <tr>\n",
       "      <th>2</th>\n",
       "      <td>1.0</td>\n",
       "      <td>repair</td>\n",
       "      <td>0.050809</td>\n",
       "      <td>0</td>\n",
       "    </tr>\n",
       "    <tr>\n",
       "      <th>3</th>\n",
       "      <td>1.0</td>\n",
       "      <td>replace</td>\n",
       "      <td>0.790558</td>\n",
       "      <td>0</td>\n",
       "    </tr>\n",
       "    <tr>\n",
       "      <th>4</th>\n",
       "      <td>2.0</td>\n",
       "      <td>replace</td>\n",
       "      <td>0.599913</td>\n",
       "      <td>0</td>\n",
       "    </tr>\n",
       "  </tbody>\n",
       "</table>\n",
       "</div>"
      ],
      "text/plain": [
       "   claim_id operation  urr_score  set\n",
       "0       0.0   replace   0.680342    0\n",
       "1       1.0   replace   0.979714    0\n",
       "2       1.0    repair   0.050809    0\n",
       "3       1.0   replace   0.790558    0\n",
       "4       2.0   replace   0.599913    0"
      ]
     },
     "execution_count": 8,
     "metadata": {},
     "output_type": "execute_result"
    }
   ],
   "source": [
    "# Extract only important information from merge_data\n",
    "# Operation is the ground truth label (ytrue)\n",
    "# Urr_score is the prediction from the classifier (ypred)\n",
    "comparison_table_ = merge_data[['claim_id', 'operation', 'urr_score','set']]\n",
    "print(comparison_table_.shape)\n",
    "comparison_table_.head()\n"
   ]
  },
  {
   "cell_type": "markdown",
   "metadata": {},
   "source": [
    "### We need to check if there is any Null Values in the prediction\n",
    "If the classifier score is missing, that means that the part was not identified by the AI in the images provided. "
   ]
  },
  {
   "cell_type": "code",
   "execution_count": 9,
   "metadata": {},
   "outputs": [
    {
     "name": "stdout",
     "output_type": "stream",
     "text": [
      "The number of prediction that is missing: 8635\n",
      "The final merge table has shape: (191192, 4)\n"
     ]
    }
   ],
   "source": [
    "nan_pred = comparison_table_[comparison_table_.urr_score.isnull()==True]\n",
    "print('The number of prediction that is missing: {}'.format(nan_pred.shape[0]))\n",
    "\n",
    "# We remove the nans from the data to be able to analyse the prediction\n",
    "comparison_table = comparison_table_.dropna(subset=['urr_score'])\n",
    "print('The final merge table has shape: {}'.format(comparison_table.shape))"
   ]
  },
  {
   "cell_type": "markdown",
   "metadata": {},
   "source": [
    "### 2(a) Find the number of samples in training, validation and test set\n",
    "\n",
    "In the metadata, we found that there is only two classes of labels: Repair and Replace. There is no 'Undamage' class. It is important to understand the number of samples in the training, validation and test set. Also, we want to know whether we have a fairly balanced classes of either 'repair' or 'replace' in the data."
   ]
  },
  {
   "cell_type": "code",
   "execution_count": 10,
   "metadata": {},
   "outputs": [
    {
     "name": "stdout",
     "output_type": "stream",
     "text": [
      "The Ground Truth Class labels are: ['replace' 'repair']\n"
     ]
    }
   ],
   "source": [
    "unique_class = pd.unique(comparison_table.operation)\n",
    "print('The Ground Truth Class labels are: {}'. format(unique_class))"
   ]
  },
  {
   "cell_type": "code",
   "execution_count": 11,
   "metadata": {},
   "outputs": [
    {
     "name": "stdout",
     "output_type": "stream",
     "text": [
      "The total number of training samples:  153195\n",
      "The number of \"Repair\" class is 105422 and the number of \"Replace\" class is 47773\n",
      "\n",
      "The total number of validation samples:  18950\n",
      "The number of \"Repair\" class is 12989 and the number of \"Replace\" class is 5961\n",
      "\n",
      "The total number of testing samples:  19047\n",
      "The number of \"Repair\" class is 13198 and the number of \"Replace\" class is 5849\n",
      "\n"
     ]
    }
   ],
   "source": [
    "training_set = comparison_table[comparison_table.set==0]\n",
    "validation_set = comparison_table[comparison_table.set==1]\n",
    "testing_set = comparison_table[comparison_table.set==2]\n",
    "\n",
    "print('The total number of training samples: ',training_set.shape[0])\n",
    "print('The number of \"Repair\" class is {} and the number of \"Replace\" class is {}\\n'\n",
    "      .format(training_set[training_set.operation=='repair'].shape[0], training_set[training_set.operation=='replace'].shape[0]))\n",
    "\n",
    "print('The total number of validation samples: ',validation_set.shape[0])\n",
    "print('The number of \"Repair\" class is {} and the number of \"Replace\" class is {}\\n'\n",
    "      .format(validation_set[validation_set.operation=='repair'].shape[0], validation_set[validation_set.operation=='replace'].shape[0]))\n",
    "\n",
    "print('The total number of testing samples: ',testing_set.shape[0])\n",
    "print('The number of \"Repair\" class is {} and the number of \"Replace\" class is {}\\n'\n",
    "      .format(testing_set[testing_set.operation=='repair'].shape[0], testing_set[testing_set.operation=='replace'].shape[0]))\n"
   ]
  },
  {
   "cell_type": "markdown",
   "metadata": {},
   "source": [
    "\n",
    "<span style=\"color:blue\"> We can easily notice that we are dealing with a highly imbalanced data set. This mean URR classifier has been trained on a highly imbalanced data, therefore, the output of the classifier model might be biased towards the large sample data, that is the Repair class.<span>\n"
   ]
  },
  {
   "cell_type": "markdown",
   "metadata": {},
   "source": [
    "## 2(b) Let's analyse the classifier output"
   ]
  },
  {
   "cell_type": "code",
   "execution_count": 12,
   "metadata": {
    "collapsed": true
   },
   "outputs": [],
   "source": [
    "# Select the full data (train, val, test) and extract the classifier output by their true label\n",
    "repair_distn = comparison_table[comparison_table.operation == 'repair'].urr_score\n",
    "replace_distn = comparison_table[comparison_table.operation == 'replace'].urr_score"
   ]
  },
  {
   "cell_type": "code",
   "execution_count": 13,
   "metadata": {},
   "outputs": [
    {
     "data": {
      "text/plain": [
       "count    131609.000000\n",
       "mean          0.401393\n",
       "std           0.154728\n",
       "min           0.000006\n",
       "25%           0.299955\n",
       "50%           0.397740\n",
       "75%           0.489298\n",
       "max           0.999236\n",
       "Name: urr_score, dtype: float64"
      ]
     },
     "execution_count": 13,
     "metadata": {},
     "output_type": "execute_result"
    }
   ],
   "source": [
    "# The table shows the statistics of the output score for the Repair Class\n",
    "repair_distn.describe()"
   ]
  },
  {
   "cell_type": "code",
   "execution_count": 14,
   "metadata": {},
   "outputs": [
    {
     "data": {
      "text/plain": [
       "count    59583.000000\n",
       "mean         0.663172\n",
       "std          0.186584\n",
       "min          0.005298\n",
       "25%          0.542234\n",
       "50%          0.679278\n",
       "75%          0.804636\n",
       "max          0.999491\n",
       "Name: urr_score, dtype: float64"
      ]
     },
     "execution_count": 14,
     "metadata": {},
     "output_type": "execute_result"
    }
   ],
   "source": [
    "# The table shows the statistics of the output score for the Replace Class\n",
    "replace_distn.describe()"
   ]
  },
  {
   "cell_type": "markdown",
   "metadata": {},
   "source": [
    "## 2(c) Plot the probability density of the two classes\n",
    "Each bin will display the bin's raw count divided by the total number of counts and the bin width \n",
    "density = counts / ( sum(counts) * np.diff(bins) )"
   ]
  },
  {
   "cell_type": "code",
   "execution_count": 15,
   "metadata": {},
   "outputs": [
    {
     "data": {
      "image/png": "[encoded data removed]",
      "text/plain": [
       "<Figure size 864x576 with 1 Axes>"
      ]
     },
     "metadata": {},
     "output_type": "display_data"
    }
   ],
   "source": [
    "# Let's plot both distributions of the whole data\n",
    "plt.figure(figsize=figSize)\n",
    "plt.vlines(repair_distn.mean(),ymin=0,ymax=3, color='b',label = 'Mean Repair')\n",
    "plt.vlines(replace_distn.mean(),ymin=0,ymax=3, color='r',label = 'Mean Replace')\n",
    "\n",
    "plt.hist(repair_distn, density=True, alpha=0.2, label = 'Repair')\n",
    "plt.hist(replace_distn, density=True, alpha=0.2, label = 'Replace')\n",
    "\n",
    "plt.xlabel('URR Classifier Output', fontsize=fontSize)\n",
    "plt.tick_params(axis='both', labelsize=fontSize)\n",
    "plt.legend(loc=\"best\",prop={'size':14},bbox_to_anchor=(1,0.5))\n",
    "plt.show()"
   ]
  },
  {
   "cell_type": "markdown",
   "metadata": {},
   "source": [
    "Let's check the consistency of the output score of the classifier for the training, validation and test set."
   ]
  },
  {
   "cell_type": "code",
   "execution_count": 16,
   "metadata": {},
   "outputs": [
    {
     "name": "stdout",
     "output_type": "stream",
     "text": [
      "The mean training distribution of repair class is 0.401017070108526 and replace class is 0.6661113571061587\n",
      "The mean validation distribution of repair class is 0.40469949617832773 and replace class is 0.653970470627299\n",
      "The mean testing distribution of repair class is 0.40113744241843013 and replace class is 0.6485369827641007\n"
     ]
    }
   ],
   "source": [
    "# Select train, val, test data and extract the classifier output by their true label\n",
    "repair_train_distn = training_set[training_set.operation == 'repair'].urr_score\n",
    "replace_train_distn = training_set[training_set.operation == 'replace'].urr_score\n",
    "\n",
    "repair_val_distn = validation_set[validation_set.operation == 'repair'].urr_score\n",
    "replace_val_distn = validation_set[validation_set.operation == 'replace'].urr_score\n",
    "\n",
    "repair_test_distn = testing_set[testing_set.operation == 'repair'].urr_score\n",
    "replace_test_distn = testing_set[testing_set.operation == 'replace'].urr_score\n",
    "\n",
    "print('The mean training distribution of repair class is {} and replace class is {}'\\\n",
    "      .format(np.mean(repair_train_distn),np.mean(replace_train_distn)))\n",
    "print('The mean validation distribution of repair class is {} and replace class is {}'\\\n",
    "      .format(np.mean(repair_val_distn),np.mean(replace_val_distn)))\n",
    "print('The mean testing distribution of repair class is {} and replace class is {}'.\\\n",
    "      format(np.mean(repair_test_distn),np.mean(replace_test_distn)))"
   ]
  },
  {
   "cell_type": "code",
   "execution_count": 17,
   "metadata": {},
   "outputs": [
    {
     "data": {
      "image/png": "[encoded data removed]",
      "text/plain": [
       "<Figure size 1008x288 with 3 Axes>"
      ]
     },
     "metadata": {},
     "output_type": "display_data"
    }
   ],
   "source": [
    "plot_train_val_test_dis(repair_train_distn,replace_train_distn, repair_val_distn,replace_val_distn,\\\n",
    "                      repair_test_distn, replace_test_distn)"
   ]
  },
  {
   "cell_type": "markdown",
   "metadata": {},
   "source": [
    "## 2(d) Analyse the performance of the classifier\n",
    "\n",
    "### Convert ground truth label to numbers\n",
    "\n",
    "Since it is a binary classifer, we will convert repair to 0 and replace to 1."
   ]
  },
  {
   "cell_type": "code",
   "execution_count": 18,
   "metadata": {},
   "outputs": [
    {
     "name": "stdout",
     "output_type": "stream",
     "text": [
      "The number of repair samples is 131609 and the number of replace sample is 59583\n"
     ]
    },
    {
     "data": {
      "text/html": [
       "<div>\n",
       "<style scoped>\n",
       "    .dataframe tbody tr th:only-of-type {\n",
       "        vertical-align: middle;\n",
       "    }\n",
       "\n",
       "    .dataframe tbody tr th {\n",
       "        vertical-align: top;\n",
       "    }\n",
       "\n",
       "    .dataframe thead th {\n",
       "        text-align: right;\n",
       "    }\n",
       "</style>\n",
       "<table border=\"1\" class=\"dataframe\">\n",
       "  <thead>\n",
       "    <tr style=\"text-align: right;\">\n",
       "      <th></th>\n",
       "      <th>claim_id</th>\n",
       "      <th>ytrue</th>\n",
       "      <th>ypred</th>\n",
       "      <th>set</th>\n",
       "    </tr>\n",
       "  </thead>\n",
       "  <tbody>\n",
       "    <tr>\n",
       "      <th>0</th>\n",
       "      <td>0.0</td>\n",
       "      <td>1</td>\n",
       "      <td>0.680342</td>\n",
       "      <td>0</td>\n",
       "    </tr>\n",
       "    <tr>\n",
       "      <th>1</th>\n",
       "      <td>1.0</td>\n",
       "      <td>1</td>\n",
       "      <td>0.979714</td>\n",
       "      <td>0</td>\n",
       "    </tr>\n",
       "    <tr>\n",
       "      <th>2</th>\n",
       "      <td>1.0</td>\n",
       "      <td>0</td>\n",
       "      <td>0.050809</td>\n",
       "      <td>0</td>\n",
       "    </tr>\n",
       "    <tr>\n",
       "      <th>3</th>\n",
       "      <td>1.0</td>\n",
       "      <td>1</td>\n",
       "      <td>0.790558</td>\n",
       "      <td>0</td>\n",
       "    </tr>\n",
       "    <tr>\n",
       "      <th>4</th>\n",
       "      <td>2.0</td>\n",
       "      <td>1</td>\n",
       "      <td>0.599913</td>\n",
       "      <td>0</td>\n",
       "    </tr>\n",
       "  </tbody>\n",
       "</table>\n",
       "</div>"
      ],
      "text/plain": [
       "   claim_id  ytrue     ypred  set\n",
       "0       0.0      1  0.680342    0\n",
       "1       1.0      1  0.979714    0\n",
       "2       1.0      0  0.050809    0\n",
       "3       1.0      1  0.790558    0\n",
       "4       2.0      1  0.599913    0"
      ]
     },
     "execution_count": 18,
     "metadata": {},
     "output_type": "execute_result"
    }
   ],
   "source": [
    "# Map repair --> 0 and replace ---> 1\n",
    "mapping = {'repair': 0, 'replace': 1}\n",
    "predicted_table = comparison_table.replace({'operation': mapping})\n",
    "print('The number of repair samples is {} and the number of replace sample is {}'\\\n",
    "      .format(predicted_table[predicted_table.operation==0].shape[0],predicted_table[predicted_table.operation==1].shape[0]))\n",
    "\n",
    "# Change column names\n",
    "predicted_table = predicted_table.rename(columns={'operation': 'ytrue', 'urr_score': 'ypred'})\n",
    "predicted_table.head()"
   ]
  },
  {
   "cell_type": "code",
   "execution_count": 19,
   "metadata": {
    "collapsed": true
   },
   "outputs": [],
   "source": [
    "# Define variables\n",
    "# Choose test set to analyse prediction\n",
    "y_true = predicted_table[predicted_table.set == 2].ytrue\n",
    "y_prob = predicted_table[predicted_table.set == 2].ypred"
   ]
  },
  {
   "cell_type": "markdown",
   "metadata": {},
   "source": [
    "The probability obtained from the URR classifier must be converted into a crisp class label. The decision for converting a predicted probability into a class label is governed by a parameter referred to as the <span style=\"color:blue\">“threshold.”</span> A default value that is usually adopted for the threshold is 0.5 for normalized predicted probabilities in the range between 0 or 1.\n",
    "\n",
    "For example, on a binary classification problem (repair or replace) with class labels 0 and 1, normalized predicted probabilities and a threshold of 0.5, then values less than the threshold of 0.5 are assigned to class 0 and values greater than or equal to 0.5 are assigned to class 1.\n",
    "\n",
    "- <span style=\"color:blue\"> Prediction < 0.5 = Class 0 or repair </span>\n",
    "- <span style=\"color:blue\"> Prediction >= 0.5 = Class 1 or replace </span>\n",
    "\n",
    "By visual inspection of the probability density plots, we note that a proper threshold to use is 0.5 to evaluate the performance of the classifier."
   ]
  },
  {
   "cell_type": "code",
   "execution_count": 20,
   "metadata": {},
   "outputs": [
    {
     "data": {
      "text/plain": [
       "23    1\n",
       "28    1\n",
       "29    0\n",
       "30    0\n",
       "40    0\n",
       "Name: ypred, dtype: int64"
      ]
     },
     "execution_count": 20,
     "metadata": {},
     "output_type": "execute_result"
    }
   ],
   "source": [
    "# Convert probability vector into target vector\n",
    "y_pred = to_labels(probs=y_prob, threshold=0.5)\n",
    "y_pred.head()"
   ]
  },
  {
   "cell_type": "code",
   "execution_count": 21,
   "metadata": {},
   "outputs": [
    {
     "name": "stdout",
     "output_type": "stream",
     "text": [
      "The balanced-accuracy of the model is 0.7807426888301798\n",
      "The Matthews correlation coefficient of the model is 0.5290024421442081\n",
      "\n",
      "\n",
      "                   pre       rec       spe        f1       geo       iba       sup\n",
      "\n",
      "     Repair       0.89      0.77      0.79      0.83      0.78      0.61     13198\n",
      "    Replace       0.61      0.79      0.77      0.69      0.78      0.61      5849\n",
      "\n",
      "avg / total       0.80      0.78      0.78      0.78      0.78      0.61     19047\n",
      "\n"
     ]
    },
    {
     "data": {
      "image/png": "[encoded data removed]",
      "text/plain": [
       "<Figure size 648x576 with 2 Axes>"
      ]
     },
     "metadata": {},
     "output_type": "display_data"
    }
   ],
   "source": [
    "# Analysing the performance of the classifier based on various metrics dealing with imbalanced data\n",
    "balance_accuracy, MCC, report, conf_mat = evaluation_metrics(y_true, y_pred, classes = ['Repair', 'Replace'])"
   ]
  },
  {
   "cell_type": "markdown",
   "metadata": {},
   "source": [
    "## Concluding Remarks for Question 2\n",
    "\n",
    "- The classifier is trained, validate and test on two classes: Repair and Replace\n",
    "- We illustrate the number of samples in the training, validation and test set.\n",
    "\n",
    "\n",
    "| Class       | Training set | Validation Set | Test Set | Total   |\n",
    "| ----------- | ------------ | -------------- | -------- | ------- |\n",
    "| **Repair**  | 105,422      |12,989          | 13,198   | 131,609 |\n",
    "| **Replace** | 47,773       |5961            |5849      | 59,583  |\n",
    "| **Total**   |153,195       |18,950          |19,047    |    -    |\n",
    "\n",
    "</br>\n",
    "\n",
    "- From the table, we can clearly note the class distributions are imbalanced. We have more examples of class 'repair' compared to class 'replace'. Training a classifier with such a data will result in a bias classifier. That is the trained model will favor the class with higher number of examples.\n",
    "\n",
    "</br>\n",
    "\n",
    "- We then analyse the output score of the URR classifier. To do so, we plot the probability density of the scores for the whole data and break that into training, validation and test set. We want to check if the prediction is fairly consistent between the different sets. On a visual perspective, from the plots we note the output distribution is fairly consistent among the three sets for the two classes (repair & replace) considered.\n",
    "\n",
    "</br>\n",
    "\n",
    "| Mean Score  | Entire data | Training set | Validation Set | Test Set|\n",
    "| ----------- | ----------- | ------------ | -------------- | ------- |\n",
    "| **Repair**  | 0.401       | 0.401        | 0.405          | 0.401   |\n",
    "| **Replace** | 0.663       | 0.666        | 0.654          | 0.648   |   \n",
    "\n",
    "</br>\n",
    "\n",
    "- In the table, we illustrate the mean distribution of the entire data and break that in to the three sets considered for training, validation and test set. The mean values are consistent for each class.\n",
    "\n",
    "</br>\n",
    "\n",
    "- The probability density plot is useful generally as it provides a measure of the certainty or uncertainty of a prediction. It also provides additional granularity over just predicting the class label that can be interpreted.\n",
    "\n",
    "</br>\n",
    "\n",
    "- For the probability density plot, we note that the 'repair' and the 'replace' distribution overlap each other. This overlapping means that classifier struggles to decipher between the two classes. In ideal case we would want to see two peaks, at 0 and 1 for each respectively.\n",
    "\n",
    "</br>\n",
    "\n",
    "- The performance of the classifier is evaluated on balanced accuracy, MCC values, the classification report (recall, precision, Gmeans scores) and the confusion matrix. These metrics are suitable for imbalanced dataset. We note that there are certain misclassification occurring and obtained an accuracy of ~ 78%\n",
    "\n",
    "___\n"
   ]
  },
  {
   "cell_type": "markdown",
   "metadata": {},
   "source": [
    "# Question 3\n",
    "Find the optimum thresholds to distinguish the undamaged/repair/replace classes. You are free to choose any objective here (accuracy, true positive rate, etc.) but make sure to justify your choice, and that the justification is sensible (expected content in hand-in: code, 2-5 bullet-points and 1-3 tables/figures)"
   ]
  },
  {
   "cell_type": "markdown",
   "metadata": {},
   "source": [
    "## 3(a) Converting probabilities to class labels\n",
    "\n",
    "\n",
    "The problem is that the default threshold may not represent an optimal interpretation of the predicted probabilities.\n",
    "\n",
    "In this example, since we are dealing with a highly class imbalanced dataset, therefore there is the need to change the default decision threshold when interpreting the predictions of this model. As we have seen in the probability density plots, using a threshold 0.5 will cause severe misclassification.\n",
    "\n",
    "We need to search a range of threshold values in order to find the best threshold, also known as <span style=\"color:blue\">'thresholding'</span>\n",
    "\n",
    "The process to do that is as follows:\n",
    "\n",
    "- For each threshold in Thresholds:<br />\n",
    "    a. Convert probabilities to Class Labels using the threshold.<br />\n",
    "    b. Evaluate Class Labels.<br />\n",
    "    c. If Score is Better than Best Score.<br />\n",
    "    d. Adopt Threshold.<br />\n",
    "- Use Adopted Threshold When Making Class Predictions on New Data."
   ]
  },
  {
   "cell_type": "markdown",
   "metadata": {},
   "source": [
    "## (i) Test 1: Optimal threshold for ROC curve\n",
    "A Receiver Operating Characteristic curve (ROC) is a diagnostic plot that evaluates a set of probability predictions made by a model on a test dataset.\n",
    "\n",
    "A set of different thresholds are used to interpret the true positive rate and the false positive rate of the predictions on the positive (minority) class, and the scores are plotted in a line of increasing thresholds to create a curve.\n",
    "\n",
    "A diagonal line on the plot from the bottom-left to top-right indicates the “curve” for a no-skill classifier (predicts the majority class in all cases), and a point in the top left of the plot indicates a model with perfect skill.\n",
    "\n",
    "The ROC Curve is a useful diagnostic tool for understanding the trade-off for different thresholds and the ROC AUC provides a useful number for comparing models based on their general capabilities.\n",
    "\n",
    "We can then use the roc_auc_score() function to calculate the true-positive rate and false-positive rate for the predictions using a set of thresholds that can then be used to create a ROC Curve plot."
   ]
  },
  {
   "cell_type": "code",
   "execution_count": 22,
   "metadata": {},
   "outputs": [
    {
     "data": {
      "image/png": "[encoded data removed]",
      "text/plain": [
       "<Figure size 864x576 with 1 Axes>"
      ]
     },
     "metadata": {},
     "output_type": "display_data"
    }
   ],
   "source": [
    "# Define metrics to be used\n",
    "# Use Area under ROC curve and plot the ROC curve\n",
    "y_prob = predicted_table[predicted_table.set == 2].ypred\n",
    "auc    = roc_auc_score(y_true,y_prob)\n",
    "fpr, tpr, thresholds  = roc_curve(y_true, y_prob, pos_label=1)\n",
    "plot_roc(fpr, tpr, auc)"
   ]
  },
  {
   "cell_type": "markdown",
   "metadata": {},
   "source": [
    "We can note that there are a number of points or thresholds close to the top-left of the plot.\n",
    "\n",
    "**Which threshold is optimal?**\n",
    "\n",
    "\n",
    "Firstly, the true positive rate is called the Sensitivity. The inverse of the false-positive rate is called the Specificity.\n",
    "\n",
    "- Sensitivity = TruePositive / (TruePositive + FalseNegative)\n",
    "- Specificity = TrueNegative / (FalsePositive + TrueNegative)\n",
    "\n",
    "Where:\n",
    "\n",
    "- Sensitivity = True Positive Rate\n",
    "- Specificity = 1 – False Positive Rate\n",
    "\n",
    "The **Geometric Mean** or **G-Mean** is a metric for imbalanced classification that, if optimized, will seek a balance between the sensitivity and the specificity.\n",
    "\n",
    "- G-Mean = sqrt(Sensitivity * Specificity)"
   ]
  },
  {
   "cell_type": "markdown",
   "metadata": {},
   "source": [
    "## First approach based on ROC-curve and Gmeans\n",
    "Test the model with each threshold returned from the call roc_auc_score() and select the threshold with the largest G-Mean value. Once calculated, we can locate the index for the largest G-mean score and use that index to determine which threshold value to use."
   ]
  },
  {
   "cell_type": "code",
   "execution_count": 23,
   "metadata": {},
   "outputs": [
    {
     "name": "stdout",
     "output_type": "stream",
     "text": [
      "Best Threshold = 0.519294, G-Mean = 0.786\n"
     ]
    }
   ],
   "source": [
    "# calculate the g-mean for each threshold\n",
    "gmeans = np.sqrt(tpr * (1-fpr))\n",
    "\n",
    "# locate the index of the largest g-mean\n",
    "ix = np.argmax(gmeans)\n",
    "print('Best Threshold = %f, G-Mean = %.3f' % (thresholds[ix], gmeans[ix]))"
   ]
  },
  {
   "cell_type": "code",
   "execution_count": 24,
   "metadata": {},
   "outputs": [
    {
     "name": "stdout",
     "output_type": "stream",
     "text": [
      "Best Threshold=0.519294, G-Mean=0.786\n"
     ]
    },
    {
     "data": {
      "image/png": "[encoded data removed]",
      "text/plain": [
       "<Figure size 864x576 with 1 Axes>"
      ]
     },
     "metadata": {},
     "output_type": "display_data"
    }
   ],
   "source": [
    "# The threshold is then used to locate the true and false positive rates, then this point is drawn on the ROC Curve.\n",
    "# We can see that the point for the optimal threshold is a large black dot and it appears to be closest to the \n",
    "# top-left of the plot.\n",
    "\n",
    "plot_roc_with_thres(fpr, tpr, auc, thresholds)\n"
   ]
  },
  {
   "cell_type": "markdown",
   "metadata": {},
   "source": [
    "## (ii) Test 2: Optimal Threshold Tuning\n",
    "\n",
    "In this example, we can define a set of thresholds and then evaluate predicted probabilities based on a metrics to find and select the optimal threshold."
   ]
  },
  {
   "cell_type": "code",
   "execution_count": 25,
   "metadata": {
    "collapsed": true
   },
   "outputs": [],
   "source": [
    "# Let us define a set of thresholds to evaluate the probabilities\n",
    "thresholds = np.arange(0, 1, 0.001)"
   ]
  },
  {
   "cell_type": "markdown",
   "metadata": {},
   "source": [
    "We need to convert each probabilities to a labels when varying the threshold. This can be achieved using the function **to_label()**. We will used the **balanced_accuracy** and **Geometric Mean** metrics to evaluate the resulting labels based on a specific thresholds using the function **optimal_threshold_tuning()**. "
   ]
  },
  {
   "cell_type": "code",
   "execution_count": 26,
   "metadata": {},
   "outputs": [
    {
     "name": "stdout",
     "output_type": "stream",
     "text": [
      "Optimal Threshold = 0.524 based on Balanced Accuracy Score = 0.786\n",
      "Optimal Threshold = 0.519 based on GMeans-Score = 0.785\n"
     ]
    }
   ],
   "source": [
    "b_accuracy, gmean_scores = optimal_threshold_tuning(y_prob, y_true, thresholds)\n"
   ]
  },
  {
   "cell_type": "markdown",
   "metadata": {},
   "source": [
    "## Concluding Remarks for Question 3\n",
    "\n",
    "- In this question, we test two approaches: (i) Based on ROC curves and (ii) Optimal thresholding approach. To evaluate the performance of the classifier, we used metrics such as the balanced accuracy and geometric mean scores. These metrics deals with high imbalanced data set. \n",
    "\n",
    "</br>\n",
    "\n",
    "- In the table below, we summarise all the results:\n",
    "\n",
    "| Methods       | Thresholds  | Balanced Accuracy | Gmeans | \n",
    "| ------------- | ----------- | ----------------- | ------ | \n",
    "| Default       | **0.5**     | 0.78              |0.78    | \n",
    "| ROC curve     |**0.519**    | -                 |0.786   |\n",
    "| Thresh tuning |**0.524**    |0.786              |-       |\n",
    "| Thresh tuning |**0.519**    | -                 |0.785   |\n",
    "\n",
    "___\n"
   ]
  },
  {
   "cell_type": "markdown",
   "metadata": {},
   "source": [
    "# Question 6\n",
    "\n",
    "You are now tasked with predicting the cost of performing the operations for a particular claim as a function of the URR scores and the claim data. How would you design a system that can predict these costs? Which metadata fields would you use? Would you also require any additional data (not provided in the data dump) that will help you improve the accuracy of your estimate? (expected content in hand-in: 5-10 bullet-points)"
   ]
  },
  {
   "cell_type": "markdown",
   "metadata": {},
   "source": [
    "- The input data that will be used are shown in the table. In these inputs, note that in the metadata these input parameters are in 'text/word/string' format. We therefore need to embed/encode these 'word' into categorical variables (techniques like embedding matrix/vector can be used). Therefore, we will have a table with input features having only numbers (float or integers).\n",
    "\n",
    "</br>\n",
    "\n",
    "| X-Input |      |      |      |       |       |          Y-Output        |\n",
    "| -------------------------------------------- | ------------------------ |\n",
    "| make | model | year | poi | part | URR_score | <span style=\"color:blue\"> part_price </span>| <span style=\"color:blue\">labour_amt</span>  |\n",
    "|   -  |   -   |   -  |  -  |   -  |    -      |     -      |      -      |\n",
    "|   -  |   -   |   -  |  -  |   -  |    -      |     -      |      -      |\n",
    "\n",
    "- A preprocessing step needs to be done, for instance, check for null values or missing values. Filter out unnecessary rows. We will also change the 'year' features to 'age_of_vehicle' by using this equation. Age of vehicle = 2021 - year. Using the 'set' column in the classifier output data, the table will be split into training, validation, and test set. 0 --> train, 1--> validation set and 2 --> test set. Data visualisation is also important and we can categorised the data into parts of the vehicles or brand/model and see if there is any correlation between the price of repair, brand, age ...\n",
    "\n",
    "</br>\n",
    "\n",
    "- A multi-layer neural network (Deep Neural Network), with several hidden layers can be used. The input will consist of various data about the car and the prediction of the URR classifier as selected in the table above. The output of the deep neural network will be the cost of the part to be replaced and the labour amount. Therefore, we will have two outputs from the network model.\n",
    "\n",
    "</br>\n",
    "\n",
    "- Use Various evaluation metrics to analyse the performance of the model, for instance Root Mean Square Error(RMSE). Also various network can be used and compared.\n",
    "\n",
    "</br>\n",
    "\n",
    "- The price of the car at present time. It is important to know this feature. For example, if the price of the cost of repair is greater than the actual price of the car, then it not optimal to proceed with a repair. Another important data that will severely vary the prediction of the cost is the severity measure of damage of the part. For instance, if a part is classified to be repair, it would be good to know how damage is it - low, medium or high. Then the price of the cost will heavily be dependent on this feature.\n",
    "\n",
    "\n",
    "\n",
    "\n",
    "\n"
   ]
  }
 ],
 "metadata": {
  "kernelspec": {
   "display_name": "Python 3",
   "language": "python",
   "name": "python3"
  },
  "language_info": {
   "codemirror_mode": {
    "name": "ipython",
    "version": 3
   },
   "file_extension": ".py",
   "mimetype": "text/x-python",
   "name": "python",
   "nbconvert_exporter": "python",
   "pygments_lexer": "ipython3",
   "version": "3.5.3"
  }
 },
 "nbformat": 4,
 "nbformat_minor": 2
}
